{
 "cells": [
  {
   "cell_type": "code",
   "execution_count": 1,
   "metadata": {},
   "outputs": [],
   "source": [
    "from Edmond_Karp import *"
   ]
  },
  {
   "cell_type": "code",
   "execution_count": 2,
   "metadata": {
    "pycharm": {
     "name": "#%%\n"
    }
   },
   "outputs": [
    {
     "data": {
      "text/plain": "<IPython.lib.display.IFrame at 0x104af3a90>",
      "text/html": "\n        <iframe\n            width=\"500px\"\n            height=\"500px\"\n            src=\"graph.html\"\n            frameborder=\"0\"\n            allowfullscreen\n            \n        ></iframe>\n        "
     },
     "metadata": {},
     "output_type": "display_data"
    }
   ],
   "source": [
    "G = read_graph()"
   ]
  },
  {
   "cell_type": "code",
   "execution_count": 3,
   "metadata": {
    "pycharm": {
     "name": "#%%\n"
    }
   },
   "outputs": [
    {
     "name": "stdout",
     "output_type": "stream",
     "text": [
      "Iteration 1:\n",
      "Graph:\n",
      "  Vertices: \n",
      "    s, h, b, t, a, c, p, d\n",
      "  Source: s, target: t\n",
      "  Edges and capacities:\n",
      "    s -> a: 8\n",
      "    s -> b: 3\n",
      "    b -> a: 2\n",
      "    a -> p: 7\n",
      "    b -> d: 4\n",
      "    p -> d: 5\n",
      "    p -> t: 3\n",
      "    d -> t: 5\n",
      "    b -> c: 2\n",
      "    c -> d: 1\n",
      "    h -> d: 1\n",
      "    c -> h: 3\n",
      "    h -> t: 3\n",
      "\n",
      "Path: \n",
      "    s -> a -> p -> t    flow: 3\n",
      "\n",
      "Iteration 2:\n",
      "Graph:\n",
      "  Vertices: \n",
      "    s, h, b, t, a, c, p, d\n",
      "  Source: s, target: t\n",
      "  Edges and capacities:\n",
      "    s -> a: 5\n",
      "    s -> b: 3\n",
      "    b -> a: 2\n",
      "    a -> p: 4\n",
      "    b -> d: 4\n",
      "    p -> d: 5\n",
      "    d -> t: 5\n",
      "    b -> c: 2\n",
      "    c -> d: 1\n",
      "    h -> d: 1\n",
      "    c -> h: 3\n",
      "    h -> t: 3\n",
      "    a -> s: 3\n",
      "    p -> a: 3\n",
      "    t -> p: 3\n",
      "\n",
      "Path: \n",
      "    s -> b -> d -> t    flow: 3\n",
      "\n",
      "Iteration 3:\n",
      "Graph:\n",
      "  Vertices: \n",
      "    s, h, b, t, a, c, p, d\n",
      "  Source: s, target: t\n",
      "  Edges and capacities:\n",
      "    s -> a: 5\n",
      "    b -> a: 2\n",
      "    a -> p: 4\n",
      "    b -> d: 1\n",
      "    p -> d: 5\n",
      "    d -> t: 2\n",
      "    b -> c: 2\n",
      "    c -> d: 1\n",
      "    h -> d: 1\n",
      "    c -> h: 3\n",
      "    h -> t: 3\n",
      "    a -> s: 3\n",
      "    p -> a: 3\n",
      "    t -> p: 3\n",
      "    b -> s: 3\n",
      "    d -> b: 3\n",
      "    t -> d: 3\n",
      "\n",
      "Path: \n",
      "    s -> a -> p -> d -> t    flow: 2\n",
      "\n",
      "Iteration 4:\n",
      "Graph:\n",
      "  Vertices: \n",
      "    s, h, b, t, a, c, p, d\n",
      "  Source: s, target: t\n",
      "  Edges and capacities:\n",
      "    s -> a: 3\n",
      "    b -> a: 2\n",
      "    a -> p: 2\n",
      "    b -> d: 1\n",
      "    p -> d: 3\n",
      "    b -> c: 2\n",
      "    c -> d: 1\n",
      "    h -> d: 1\n",
      "    c -> h: 3\n",
      "    h -> t: 3\n",
      "    a -> s: 5\n",
      "    p -> a: 5\n",
      "    t -> p: 3\n",
      "    b -> s: 3\n",
      "    d -> b: 3\n",
      "    t -> d: 5\n",
      "    d -> p: 2\n",
      "\n",
      "Path: \n",
      "    s -> a -> p -> d -> b -> c -> h -> t    flow: 2\n",
      "\n",
      "Iteration 5:\n",
      "Graph:\n",
      "  Vertices: \n",
      "    s, h, b, t, a, c, p, d\n",
      "  Source: s, target: t\n",
      "  Edges and capacities:\n",
      "    s -> a: 1\n",
      "    b -> a: 2\n",
      "    b -> d: 3\n",
      "    p -> d: 1\n",
      "    c -> d: 1\n",
      "    h -> d: 1\n",
      "    c -> h: 1\n",
      "    h -> t: 1\n",
      "    a -> s: 7\n",
      "    p -> a: 7\n",
      "    t -> p: 3\n",
      "    b -> s: 3\n",
      "    d -> b: 1\n",
      "    t -> d: 5\n",
      "    d -> p: 4\n",
      "    c -> b: 2\n",
      "    h -> c: 2\n",
      "    t -> h: 2\n",
      "\n",
      "Path not found, Done!\n",
      "Max Flow: 10\n",
      "\n"
     ]
    }
   ],
   "source": [
    "f = Edmond_Karp(G)"
   ]
  },
  {
   "cell_type": "code",
   "execution_count": 4,
   "metadata": {
    "pycharm": {
     "name": "#%%\n"
    }
   },
   "outputs": [
    {
     "data": {
      "text/plain": "<IPython.lib.display.IFrame at 0x103b98e50>",
      "text/html": "\n        <iframe\n            width=\"500px\"\n            height=\"500px\"\n            src=\"flow.html\"\n            frameborder=\"0\"\n            allowfullscreen\n            \n        ></iframe>\n        "
     },
     "metadata": {},
     "output_type": "display_data"
    }
   ],
   "source": [
    "show_flow(f.get_flow())"
   ]
  },
  {
   "cell_type": "code",
   "execution_count": null,
   "metadata": {},
   "outputs": [],
   "source": []
  }
 ],
 "metadata": {
  "kernelspec": {
   "display_name": "Python 3",
   "language": "python",
   "name": "python3"
  },
  "language_info": {
   "codemirror_mode": {
    "name": "ipython",
    "version": 3
   },
   "file_extension": ".py",
   "mimetype": "text/x-python",
   "name": "python",
   "nbconvert_exporter": "python",
   "pygments_lexer": "ipython3",
   "version": "3.7.6"
  }
 },
 "nbformat": 4,
 "nbformat_minor": 1
}