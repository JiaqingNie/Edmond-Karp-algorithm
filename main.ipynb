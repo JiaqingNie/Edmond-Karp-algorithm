{
 "cells": [
  {
   "cell_type": "code",
   "execution_count": 1,
   "metadata": {},
   "outputs": [],
   "source": [
    "from copy import deepcopy\n",
    "from Path import Path\n",
    "from Flow import Flow\n",
    "from utils import read_graph\n",
    "from utils import show_flow\n",
    "from utils import show_graph"
   ]
  },
  {
   "cell_type": "code",
   "execution_count": 2,
   "metadata": {
    "pycharm": {
     "name": "#%%\n"
    }
   },
   "outputs": [],
   "source": [
    "def get_residual_network(G, f):\n",
    "    Gf = deepcopy(G)\n",
    "    flow = f.get_flow()\n",
    "    for (u, v, value) in flow:\n",
    "        old_capacity = Gf.get_capacity(u, v)\n",
    "        new_capacity = old_capacity - value\n",
    "        if new_capacity == 0:\n",
    "            Gf.remove_edge(u, v)\n",
    "        else:\n",
    "            Gf.set_capacity(u, v, new_capacity)\n",
    "        if not Gf.has_edge(v, u):\n",
    "            Gf.add_edge(v, u)\n",
    "        Gf.set_capacity(v, u, value)\n",
    "\n",
    "    print(Gf)\n",
    "    return Gf"
   ]
  },
  {
   "cell_type": "code",
   "execution_count": 3,
   "metadata": {
    "pycharm": {
     "name": "#%%\n"
    }
   },
   "outputs": [],
   "source": [
    "def find_augmenting_path_by_bfs(Gf):\n",
    "    root = Path(Gf, Gf.s)\n",
    "    visited = set()\n",
    "    l = [root]\n",
    "    while l:\n",
    "        path = l.pop(0)\n",
    "        tail = path.tail()\n",
    "        outgoing_list = Gf.get_vertices_outgoing_from(tail)\n",
    "        for v in outgoing_list:\n",
    "            if (tail, v) in visited:\n",
    "                continue\n",
    "            visited.add((tail, v))\n",
    "            p = path.copy()\n",
    "            p.append(v)\n",
    "            if v == Gf.t:\n",
    "                print(p)\n",
    "                return p\n",
    "            l.append(p)\n",
    "\n",
    "    print(\"Path not found!\")"
   ]
  },
  {
   "cell_type": "code",
   "execution_count": 4,
   "metadata": {
    "pycharm": {
     "name": "#%%\n"
    }
   },
   "outputs": [],
   "source": [
    "def Edmond_Karp(G):\n",
    "    it = 0\n",
    "    f = Flow(G)\n",
    "    while True:\n",
    "        it += 1\n",
    "        print(\"Iteration {}:\".format(it))\n",
    "        Gf = get_residual_network(G, f)\n",
    "        path = find_augmenting_path_by_bfs(Gf)\n",
    "        if not path:\n",
    "            break\n",
    "        fp = path.get_path_flow()\n",
    "        f.augment(fp)\n",
    "    print(\"Max Flow: {}\\n\".format(f.value()))\n",
    "    return f"
   ]
  },
  {
   "cell_type": "code",
   "execution_count": 5,
   "metadata": {
    "pycharm": {
     "name": "#%%\n"
    }
   },
   "outputs": [
    {
     "data": {
      "text/html": [
       "\n",
       "        <iframe\n",
       "            width=\"500px\"\n",
       "            height=\"500px\"\n",
       "            src=\"graph.html\"\n",
       "            frameborder=\"0\"\n",
       "            allowfullscreen\n",
       "        ></iframe>\n",
       "        "
      ],
      "text/plain": [
       "<IPython.lib.display.IFrame at 0x7fd750844850>"
      ]
     },
     "metadata": {},
     "output_type": "display_data"
    }
   ],
   "source": [
    "G = read_graph()"
   ]
  },
  {
   "cell_type": "code",
   "execution_count": 6,
   "metadata": {
    "pycharm": {
     "name": "#%%\n"
    }
   },
   "outputs": [
    {
     "name": "stdout",
     "output_type": "stream",
     "text": [
      "Iteration 1:\n",
      "Graph:\n",
      "  Vertices: \n",
      "    t, a, p, c, d, h, b, s\n",
      "  Source: s, target: t\n",
      "  Edges and capacities:\n",
      "    s -> a: 8\n",
      "    s -> b: 3\n",
      "    b -> a: 2\n",
      "    a -> p: 7\n",
      "    b -> d: 4\n",
      "    p -> d: 5\n",
      "    p -> t: 3\n",
      "    d -> t: 5\n",
      "    b -> c: 2\n",
      "    c -> d: 1\n",
      "    h -> d: 1\n",
      "    c -> h: 3\n",
      "    h -> t: 3\n",
      "\n",
      "Path: \n",
      "    s -> a -> p -> t    flow: 3\n",
      "\n",
      "Iteration 2:\n",
      "Graph:\n",
      "  Vertices: \n",
      "    t, a, p, c, d, h, b, s\n",
      "  Source: s, target: t\n",
      "  Edges and capacities:\n",
      "    s -> a: 5\n",
      "    s -> b: 3\n",
      "    b -> a: 2\n",
      "    a -> p: 4\n",
      "    b -> d: 4\n",
      "    p -> d: 5\n",
      "    d -> t: 5\n",
      "    b -> c: 2\n",
      "    c -> d: 1\n",
      "    h -> d: 1\n",
      "    c -> h: 3\n",
      "    h -> t: 3\n",
      "    a -> s: 3\n",
      "    p -> a: 3\n",
      "    t -> p: 3\n",
      "\n",
      "Path: \n",
      "    s -> b -> d -> t    flow: 3\n",
      "\n",
      "Iteration 3:\n",
      "Graph:\n",
      "  Vertices: \n",
      "    t, a, p, c, d, h, b, s\n",
      "  Source: s, target: t\n",
      "  Edges and capacities:\n",
      "    s -> a: 5\n",
      "    b -> a: 2\n",
      "    a -> p: 4\n",
      "    b -> d: 1\n",
      "    p -> d: 5\n",
      "    d -> t: 2\n",
      "    b -> c: 2\n",
      "    c -> d: 1\n",
      "    h -> d: 1\n",
      "    c -> h: 3\n",
      "    h -> t: 3\n",
      "    a -> s: 3\n",
      "    p -> a: 3\n",
      "    t -> p: 3\n",
      "    b -> s: 3\n",
      "    d -> b: 3\n",
      "    t -> d: 3\n",
      "\n",
      "Path: \n",
      "    s -> a -> p -> d -> t    flow: 2\n",
      "\n",
      "Iteration 4:\n",
      "Graph:\n",
      "  Vertices: \n",
      "    t, a, p, c, d, h, b, s\n",
      "  Source: s, target: t\n",
      "  Edges and capacities:\n",
      "    s -> a: 3\n",
      "    b -> a: 2\n",
      "    a -> p: 2\n",
      "    b -> d: 1\n",
      "    p -> d: 3\n",
      "    b -> c: 2\n",
      "    c -> d: 1\n",
      "    h -> d: 1\n",
      "    c -> h: 3\n",
      "    h -> t: 3\n",
      "    a -> s: 5\n",
      "    p -> a: 5\n",
      "    t -> p: 3\n",
      "    b -> s: 3\n",
      "    d -> b: 3\n",
      "    t -> d: 5\n",
      "    d -> p: 2\n",
      "\n",
      "Path: \n",
      "    s -> a -> p -> d -> b -> c -> h -> t    flow: 2\n",
      "\n",
      "Iteration 5:\n",
      "Graph:\n",
      "  Vertices: \n",
      "    t, a, p, c, d, h, b, s\n",
      "  Source: s, target: t\n",
      "  Edges and capacities:\n",
      "    s -> a: 1\n",
      "    b -> a: 2\n",
      "    b -> d: 3\n",
      "    p -> d: 1\n",
      "    c -> d: 1\n",
      "    h -> d: 1\n",
      "    c -> h: 1\n",
      "    h -> t: 1\n",
      "    a -> s: 7\n",
      "    p -> a: 7\n",
      "    t -> p: 3\n",
      "    b -> s: 3\n",
      "    d -> b: 1\n",
      "    t -> d: 5\n",
      "    d -> p: 4\n",
      "    c -> b: 2\n",
      "    h -> c: 2\n",
      "    t -> h: 2\n",
      "\n",
      "Path not found!\n",
      "Max Flow: 10\n",
      "\n"
     ]
    }
   ],
   "source": [
    "f = Edmond_Karp(G)"
   ]
  },
  {
   "cell_type": "code",
   "execution_count": 7,
   "metadata": {
    "pycharm": {
     "name": "#%%\n"
    }
   },
   "outputs": [
    {
     "data": {
      "text/html": [
       "\n",
       "        <iframe\n",
       "            width=\"500px\"\n",
       "            height=\"500px\"\n",
       "            src=\"flow.html\"\n",
       "            frameborder=\"0\"\n",
       "            allowfullscreen\n",
       "        ></iframe>\n",
       "        "
      ],
      "text/plain": [
       "<IPython.lib.display.IFrame at 0x7fd750d64090>"
      ]
     },
     "metadata": {},
     "output_type": "display_data"
    }
   ],
   "source": [
    "show_flow(f.get_flow())"
   ]
  },
  {
   "cell_type": "code",
   "execution_count": null,
   "metadata": {},
   "outputs": [],
   "source": []
  }
 ],
 "metadata": {
  "kernelspec": {
   "display_name": "Python 3",
   "language": "python",
   "name": "python3"
  },
  "language_info": {
   "codemirror_mode": {
    "name": "ipython",
    "version": 3
   },
   "file_extension": ".py",
   "mimetype": "text/x-python",
   "name": "python",
   "nbconvert_exporter": "python",
   "pygments_lexer": "ipython3",
   "version": "3.7.6"
  }
 },
 "nbformat": 4,
 "nbformat_minor": 1
}